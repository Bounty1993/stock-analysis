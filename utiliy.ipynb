{
 "cells": [
  {
   "cell_type": "code",
   "execution_count": 13,
   "metadata": {},
   "outputs": [],
   "source": [
    "import requests\n",
    "import io\n",
    "import pandas as pd\n",
    "import os\n",
    "\n",
    "import logging\n",
    "import sys\n",
    "\n",
    "logging.basicConfig(stream=sys.stdout, level=logging.INFO)\n",
    "logger = logging.getLogger(__name__)"
   ]
  },
  {
   "cell_type": "code",
   "execution_count": 17,
   "metadata": {},
   "outputs": [
    {
     "name": "stdout",
     "output_type": "stream",
     "text": [
      "INFO:__main__:mwig40.csv was saved. Dates range: 1997-12-31 - 2020-04-30\n",
      "INFO:__main__:wig20.csv was saved. Dates range: 1991-04-16 - 2020-04-30\n",
      "INFO:__main__:wig.csv was saved. Dates range: 1991-04-16 - 2020-04-30\n",
      "INFO:__main__:swig80.csv was saved. Dates range: 1994-12-29 - 2020-04-30\n",
      "INFO:__main__:dax.csv was saved. Dates range: 1959-09-28 - 2020-04-30\n",
      "INFO:__main__:sp500.csv was saved. Dates range: 1789-05-01 - 2020-05-01\n"
     ]
    }
   ],
   "source": [
    "urls_to_fetch = [\n",
    "    ('https://stooq.pl/q/d/l/?s=mwig40&i=d', 'mwig40.csv'),\n",
    "    ('https://stooq.pl/q/d/l/?s=wig20&i=d', 'wig20.csv'),\n",
    "    ('https://stooq.pl/q/d/l/?s=wig&i=d', 'wig.csv'),\n",
    "    ('https://stooq.pl/q/d/l/?s=swig80&i=d', 'swig80.csv'),\n",
    "    ('https://stooq.pl/q/d/l/?s=^dax&i=d', 'dax.csv'),\n",
    "    ('https://stooq.pl/q/d/l/?s=^spx&i=d', 'sp500.csv')    \n",
    "]\n",
    "\n",
    "def fetch_and_save(url, to_file):\n",
    "    \"\"\"\n",
    "    Function download and save current market data. Data comes from\n",
    "    stooq.pl. It does not take a lot of time so i do not use asyncio.\n",
    "    Maybe in the future it is recomended.\n",
    "    \n",
    "    Parameters\n",
    "    ----------\n",
    "    url : string\n",
    "        url path to a csv file\n",
    "    to_file : path\n",
    "        destination for saving\n",
    "    \"\"\"\n",
    "    req = requests.get(url)\n",
    "    df = pd.read_csv(io.StringIO(req.text))\n",
    "    file_path = os.path.join('data', to_file)\n",
    "    df.to_csv(file_path)\n",
    "    logger.info(f'{to_file} was saved. Dates range: {df[\"Data\"].min()} - {df[\"Data\"].max()}')\n",
    "\n",
    "   \n",
    "for (url, to_file) in urls_to_fetch:\n",
    "    fetch_and_save(url, to_file)"
   ]
  },
  {
   "cell_type": "code",
   "execution_count": null,
   "metadata": {},
   "outputs": [],
   "source": []
  }
 ],
 "metadata": {
  "kernelspec": {
   "display_name": "Python 3",
   "language": "python",
   "name": "python3"
  },
  "language_info": {
   "codemirror_mode": {
    "name": "ipython",
    "version": 3
   },
   "file_extension": ".py",
   "mimetype": "text/x-python",
   "name": "python",
   "nbconvert_exporter": "python",
   "pygments_lexer": "ipython3",
   "version": "3.7.3"
  }
 },
 "nbformat": 4,
 "nbformat_minor": 2
}
