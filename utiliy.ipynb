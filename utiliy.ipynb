{
 "cells": [
  {
   "cell_type": "code",
   "execution_count": 29,
   "metadata": {},
   "outputs": [],
   "source": [
    "import requests\n",
    "import io\n",
    "import pandas as pd\n",
    "import os"
   ]
  },
  {
   "cell_type": "code",
   "execution_count": 32,
   "metadata": {},
   "outputs": [
    {
     "name": "stdout",
     "output_type": "stream",
     "text": [
      "mwig40.csv  max date 2020-03-10\n"
     ]
    }
   ],
   "source": [
    "urls_to_fetch = [\n",
    "    ('https://stooq.pl/q/d/l/?s=mwig40&i=d', 'mwig40.csv')\n",
    "]\n",
    "\n",
    "def fetch_and_save(url, to_file):\n",
    "    req = requests.get(url)\n",
    "    df = pd.read_csv(io.StringIO(req.text))\n",
    "    print(to_file, ' max date {}'.format(df['Data'].max()))\n",
    "    df.to_csv(to_file)\n",
    "    \n",
    "for (url, to_file) in urls_to_fetch:\n",
    "    fetch_and_save(url, to_file)"
   ]
  },
  {
   "cell_type": "code",
   "execution_count": null,
   "metadata": {},
   "outputs": [],
   "source": []
  }
 ],
 "metadata": {
  "kernelspec": {
   "display_name": "Python 3",
   "language": "python",
   "name": "python3"
  },
  "language_info": {
   "codemirror_mode": {
    "name": "ipython",
    "version": 3
   },
   "file_extension": ".py",
   "mimetype": "text/x-python",
   "name": "python",
   "nbconvert_exporter": "python",
   "pygments_lexer": "ipython3",
   "version": "3.7.3"
  }
 },
 "nbformat": 4,
 "nbformat_minor": 2
}
