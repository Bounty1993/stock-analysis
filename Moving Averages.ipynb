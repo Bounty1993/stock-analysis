{
 "cells": [
  {
   "cell_type": "code",
   "execution_count": 28,
   "metadata": {},
   "outputs": [],
   "source": [
    "import numpy as np\n",
    "import pandas as pd\n",
    "import matplotlib.pyplot as plt\n",
    "import seaborn as sns"
   ]
  },
  {
   "cell_type": "code",
   "execution_count": 66,
   "metadata": {},
   "outputs": [],
   "source": [
    "market_index = pd.read_csv('wig.csv', parse_dates=['Data'], usecols=['Data', 'Zamkniecie', 'Wolumen'])"
   ]
  },
  {
   "cell_type": "code",
   "execution_count": 67,
   "metadata": {},
   "outputs": [],
   "source": [
    "market_date_range = pd.DataFrame({'Data': pd.date_range(start='4/16/1991', end='7/18/2019', freq='D')})\n",
    "temp_market = pd.merge(market_date_range, market_index, on='Data', how='left')\n",
    "temp_market.fillna(method='ffill', inplace=True)"
   ]
  },
  {
   "cell_type": "code",
   "execution_count": 68,
   "metadata": {},
   "outputs": [],
   "source": [
    "periods = [14, 26, 100, 200]\n",
    "for period in periods:    \n",
    "    temp_market[f'mean_{period}'] = temp_market['Zamkniecie'].rolling(period).mean()\n",
    "    temp_market[f'diff_{period}'] = temp_market['Zamkniecie'] - temp_market[f'mean_{period}']"
   ]
  },
  {
   "cell_type": "code",
   "execution_count": 107,
   "metadata": {},
   "outputs": [],
   "source": [
    "temp_market['Zwrot_za_1Y'] = (temp_market['Zamkniecie'].shift(-365) / temp_market['Zamkniecie']) - 1"
   ]
  },
  {
   "cell_type": "code",
   "execution_count": 116,
   "metadata": {},
   "outputs": [
    {
     "data": {
      "text/plain": [
       "[<matplotlib.lines.Line2D at 0x7f92a0c25be0>]"
      ]
     },
     "execution_count": 116,
     "metadata": {},
     "output_type": "execute_result"
    },
    {
     "data": {
      "image/png": "[encoded data removed]",
      "text/plain": [
       "<Figure size 432x288 with 1 Axes>"
      ]
     },
     "metadata": {
      "needs_background": "light"
     },
     "output_type": "display_data"
    }
   ],
   "source": [
    "plt.plot(temp_market['Data'], temp_market['Zwrot_za_1Y'])"
   ]
  },
  {
   "cell_type": "code",
   "execution_count": 127,
   "metadata": {},
   "outputs": [
    {
     "data": {
      "text/plain": [
       "0        1991\n",
       "1        1991\n",
       "2        1991\n",
       "3        1991\n",
       "4        1991\n",
       "5        1991\n",
       "6        1991\n",
       "7        1991\n",
       "8        1991\n",
       "9        1991\n",
       "10       1991\n",
       "11       1991\n",
       "12       1991\n",
       "13       1991\n",
       "14       1991\n",
       "15       1991\n",
       "16       1991\n",
       "17       1991\n",
       "18       1991\n",
       "19       1991\n",
       "20       1991\n",
       "21       1991\n",
       "22       1991\n",
       "23       1991\n",
       "24       1991\n",
       "25       1991\n",
       "26       1991\n",
       "27       1991\n",
       "28       1991\n",
       "29       1991\n",
       "         ... \n",
       "10291    2019\n",
       "10292    2019\n",
       "10293    2019\n",
       "10294    2019\n",
       "10295    2019\n",
       "10296    2019\n",
       "10297    2019\n",
       "10298    2019\n",
       "10299    2019\n",
       "10300    2019\n",
       "10301    2019\n",
       "10302    2019\n",
       "10303    2019\n",
       "10304    2019\n",
       "10305    2019\n",
       "10306    2019\n",
       "10307    2019\n",
       "10308    2019\n",
       "10309    2019\n",
       "10310    2019\n",
       "10311    2019\n",
       "10312    2019\n",
       "10313    2019\n",
       "10314    2019\n",
       "10315    2019\n",
       "10316    2019\n",
       "10317    2019\n",
       "10318    2019\n",
       "10319    2019\n",
       "10320    2019\n",
       "Name: Data, Length: 10321, dtype: int64"
      ]
     },
     "execution_count": 127,
     "metadata": {},
     "output_type": "execute_result"
    }
   ],
   "source": []
  },
  {
   "cell_type": "code",
   "execution_count": null,
   "metadata": {},
   "outputs": [],
   "source": []
  }
 ],
 "metadata": {
  "kernelspec": {
   "display_name": "Python 3",
   "language": "python",
   "name": "python3"
  },
  "language_info": {
   "codemirror_mode": {
    "name": "ipython",
    "version": 3
   },
   "file_extension": ".py",
   "mimetype": "text/x-python",
   "name": "python",
   "nbconvert_exporter": "python",
   "pygments_lexer": "ipython3",
   "version": "3.7.3"
  }
 },
 "nbformat": 4,
 "nbformat_minor": 2
}
